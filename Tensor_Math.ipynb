{
  "nbformat": 4,
  "nbformat_minor": 0,
  "metadata": {
    "colab": {
      "provenance": [],
      "authorship_tag": "ABX9TyOLyWRDL/ZmLS/29tdDTLTi",
      "include_colab_link": true
    },
    "kernelspec": {
      "name": "python3",
      "display_name": "Python 3"
    },
    "language_info": {
      "name": "python"
    }
  },
  "cells": [
    {
      "cell_type": "markdown",
      "metadata": {
        "id": "view-in-github",
        "colab_type": "text"
      },
      "source": [
        "<a href=\"https://colab.research.google.com/github/Lih01/Deep-Learning-w-PyTorch/blob/main/Tensor_Math.ipynb\" target=\"_parent\"><img src=\"https://colab.research.google.com/assets/colab-badge.svg\" alt=\"Open In Colab\"/></a>"
      ]
    },
    {
      "cell_type": "code",
      "execution_count": 1,
      "metadata": {
        "id": "Bf6YhU3WVdnc"
      },
      "outputs": [],
      "source": [
        "import torch\n",
        "import numpy as np"
      ]
    },
    {
      "cell_type": "code",
      "source": [
        "tensor_a = torch.tensor ([1,2,3,4])\n",
        "tensor_b = torch.tensor ([5,6,7,8])"
      ],
      "metadata": {
        "id": "ywG4EUuJWEHN"
      },
      "execution_count": 2,
      "outputs": []
    },
    {
      "cell_type": "markdown",
      "source": [
        "# Soma"
      ],
      "metadata": {
        "id": "NCGDVtNXXNoB"
      }
    },
    {
      "cell_type": "code",
      "source": [
        "# A soma dos itens correspondem a sua localização (1+5, 2+6, 3+7, 4+8,) e assim\n",
        "# segue, mas é importante ter as mesmas quantidade\n",
        "tensor_a + tensor_b"
      ],
      "metadata": {
        "colab": {
          "base_uri": "https://localhost:8080/"
        },
        "id": "Ckv4nq_sWTrk",
        "outputId": "0a206670-dd83-449c-d2cb-8ef5898d5863"
      },
      "execution_count": 6,
      "outputs": [
        {
          "output_type": "execute_result",
          "data": {
            "text/plain": [
              "tensor([ 6,  8, 10, 12])"
            ]
          },
          "metadata": {},
          "execution_count": 6
        }
      ]
    },
    {
      "cell_type": "code",
      "source": [
        "# Adição \"a mão\"\n",
        "torch.add(tensor_a, tensor_b)"
      ],
      "metadata": {
        "colab": {
          "base_uri": "https://localhost:8080/"
        },
        "id": "v1_9Ya9YXD-8",
        "outputId": "4854b925-bb5c-4a9b-8186-f074fdb0b6f1"
      },
      "execution_count": 5,
      "outputs": [
        {
          "output_type": "execute_result",
          "data": {
            "text/plain": [
              "tensor([ 6,  8, 10, 12])"
            ]
          },
          "metadata": {},
          "execution_count": 5
        }
      ]
    },
    {
      "cell_type": "markdown",
      "source": [
        "# Subtração"
      ],
      "metadata": {
        "id": "1XRcxOF2XaZB"
      }
    },
    {
      "cell_type": "code",
      "source": [
        "# Mesma ideia da soma, mas agora subtraindo\n",
        "tensor_b - tensor_a"
      ],
      "metadata": {
        "colab": {
          "base_uri": "https://localhost:8080/"
        },
        "id": "5FdS7rImXc9Z",
        "outputId": "2a285e70-0cd6-45d9-ef6a-40638402a6a3"
      },
      "execution_count": 8,
      "outputs": [
        {
          "output_type": "execute_result",
          "data": {
            "text/plain": [
              "tensor([4, 4, 4, 4])"
            ]
          },
          "metadata": {},
          "execution_count": 8
        }
      ]
    },
    {
      "cell_type": "code",
      "source": [
        "# Subtração \"a mão\"\n",
        "torch.sub(tensor_b, tensor_a)"
      ],
      "metadata": {
        "colab": {
          "base_uri": "https://localhost:8080/"
        },
        "id": "C5ZBrKqfXq_8",
        "outputId": "ddedde89-3478-4dc4-8374-a6e027da278c"
      },
      "execution_count": 9,
      "outputs": [
        {
          "output_type": "execute_result",
          "data": {
            "text/plain": [
              "tensor([4, 4, 4, 4])"
            ]
          },
          "metadata": {},
          "execution_count": 9
        }
      ]
    },
    {
      "cell_type": "markdown",
      "source": [
        "# Multiplicação"
      ],
      "metadata": {
        "id": "nxJdyQfUX1TK"
      }
    },
    {
      "cell_type": "code",
      "source": [
        "tensor_a * tensor_b"
      ],
      "metadata": {
        "colab": {
          "base_uri": "https://localhost:8080/"
        },
        "id": "FECWwOwqX7Yf",
        "outputId": "36aeeda8-b86a-4c68-ef4a-bac1311a7a63"
      },
      "execution_count": 10,
      "outputs": [
        {
          "output_type": "execute_result",
          "data": {
            "text/plain": [
              "tensor([ 5, 12, 21, 32])"
            ]
          },
          "metadata": {},
          "execution_count": 10
        }
      ]
    },
    {
      "cell_type": "code",
      "source": [
        "# Multiplição \"a mão\"\n",
        "torch.mul(tensor_a, tensor_b)"
      ],
      "metadata": {
        "colab": {
          "base_uri": "https://localhost:8080/"
        },
        "id": "Oo_v85KtYB2Q",
        "outputId": "9b2da595-766e-49ea-b99b-ac24c9d90986"
      },
      "execution_count": 12,
      "outputs": [
        {
          "output_type": "execute_result",
          "data": {
            "text/plain": [
              "tensor([ 5, 12, 21, 32])"
            ]
          },
          "metadata": {},
          "execution_count": 12
        }
      ]
    },
    {
      "cell_type": "markdown",
      "source": [
        "# Divisão"
      ],
      "metadata": {
        "id": "eqTbIDgpYL9O"
      }
    },
    {
      "cell_type": "code",
      "source": [
        "tensor_b / tensor_a"
      ],
      "metadata": {
        "colab": {
          "base_uri": "https://localhost:8080/"
        },
        "id": "4WfL3vyKYOVf",
        "outputId": "fa95bfc2-4a54-49b3-b2e6-bd5cf5968a74"
      },
      "execution_count": 14,
      "outputs": [
        {
          "output_type": "execute_result",
          "data": {
            "text/plain": [
              "tensor([5.0000, 3.0000, 2.3333, 2.0000])"
            ]
          },
          "metadata": {},
          "execution_count": 14
        }
      ]
    },
    {
      "cell_type": "code",
      "source": [
        "# Divisão \"a mão\"\n",
        "torch.div(tensor_b, tensor_a)"
      ],
      "metadata": {
        "colab": {
          "base_uri": "https://localhost:8080/"
        },
        "id": "gJ2VutsRYcO2",
        "outputId": "2e758b70-0925-439b-b94f-fc0c29f40f95"
      },
      "execution_count": 15,
      "outputs": [
        {
          "output_type": "execute_result",
          "data": {
            "text/plain": [
              "tensor([5.0000, 3.0000, 2.3333, 2.0000])"
            ]
          },
          "metadata": {},
          "execution_count": 15
        }
      ]
    },
    {
      "cell_type": "markdown",
      "source": [
        "\"Restos\" da divisão usamos o Módulo (%)"
      ],
      "metadata": {
        "id": "7MUINEJ-Ylm6"
      }
    },
    {
      "cell_type": "code",
      "source": [
        "tensor_b % tensor_a"
      ],
      "metadata": {
        "colab": {
          "base_uri": "https://localhost:8080/"
        },
        "id": "jdcluUEaYqbP",
        "outputId": "82a9cad5-6ee9-49dc-d982-13b754d6a010"
      },
      "execution_count": 16,
      "outputs": [
        {
          "output_type": "execute_result",
          "data": {
            "text/plain": [
              "tensor([0, 0, 1, 0])"
            ]
          },
          "metadata": {},
          "execution_count": 16
        }
      ]
    },
    {
      "cell_type": "code",
      "source": [
        "# Restos \"à mão\"\n",
        "torch.remainder(tensor_b, tensor_a)"
      ],
      "metadata": {
        "colab": {
          "base_uri": "https://localhost:8080/"
        },
        "id": "LYrUyX8lZPn0",
        "outputId": "5700fbfd-1bb3-44c3-bdd1-88cc0e50e0c7"
      },
      "execution_count": 17,
      "outputs": [
        {
          "output_type": "execute_result",
          "data": {
            "text/plain": [
              "tensor([0, 0, 1, 0])"
            ]
          },
          "metadata": {},
          "execution_count": 17
        }
      ]
    },
    {
      "cell_type": "markdown",
      "source": [
        "# Expoentes (x²)"
      ],
      "metadata": {
        "id": "R1UWRaSIZdCC"
      }
    },
    {
      "cell_type": "code",
      "source": [
        "tensor_a ** tensor_b"
      ],
      "metadata": {
        "colab": {
          "base_uri": "https://localhost:8080/"
        },
        "id": "lXcZ34V2Zfht",
        "outputId": "fc2e3bd1-a8b2-4d12-fcef-111f64ba68ec"
      },
      "execution_count": 20,
      "outputs": [
        {
          "output_type": "execute_result",
          "data": {
            "text/plain": [
              "tensor([    1,    64,  2187, 65536])"
            ]
          },
          "metadata": {},
          "execution_count": 20
        }
      ]
    },
    {
      "cell_type": "code",
      "source": [
        "# Expoente \"à mão\"\n",
        "torch.pow(tensor_a, tensor_b)"
      ],
      "metadata": {
        "colab": {
          "base_uri": "https://localhost:8080/"
        },
        "id": "ApnCdixVZq00",
        "outputId": "66c1f5e9-29f4-4c9c-ea62-be42736958f9"
      },
      "execution_count": 21,
      "outputs": [
        {
          "output_type": "execute_result",
          "data": {
            "text/plain": [
              "tensor([    1,    64,  2187, 65536])"
            ]
          },
          "metadata": {},
          "execution_count": 21
        }
      ]
    },
    {
      "cell_type": "markdown",
      "source": [
        "# Outros meios\n",
        "\n",
        "*   tensor_a.add();\n",
        "*   tensor_b.sun();\n",
        "*   tensor_a.mul();\n",
        "*   tensor_b.div();\n",
        "*   tensor_b.remainder();\n",
        "*   tensor_a.pow()"
      ],
      "metadata": {
        "id": "_p6fDKgWZ_Um"
      }
    },
    {
      "cell_type": "markdown",
      "source": [
        "# Reatribuição (Reassignment)"
      ],
      "metadata": {
        "id": "N_vy1EsCbEfb"
      }
    },
    {
      "cell_type": "code",
      "source": [
        "tensor_a + tensor_b"
      ],
      "metadata": {
        "colab": {
          "base_uri": "https://localhost:8080/"
        },
        "id": "1Jc_TnsiaJRq",
        "outputId": "78fb49b0-8375-44f5-ddca-2e33e84f881f"
      },
      "execution_count": 23,
      "outputs": [
        {
          "output_type": "execute_result",
          "data": {
            "text/plain": [
              "tensor([ 6,  8, 10, 12])"
            ]
          },
          "metadata": {},
          "execution_count": 23
        }
      ]
    },
    {
      "cell_type": "code",
      "source": [
        "tensor_a"
      ],
      "metadata": {
        "colab": {
          "base_uri": "https://localhost:8080/"
        },
        "id": "R7BvKgoYbRnq",
        "outputId": "595094f8-47cb-4354-acd7-70e8055da30d"
      },
      "execution_count": 24,
      "outputs": [
        {
          "output_type": "execute_result",
          "data": {
            "text/plain": [
              "tensor([1, 2, 3, 4])"
            ]
          },
          "metadata": {},
          "execution_count": 24
        }
      ]
    },
    {
      "cell_type": "code",
      "source": [
        "# tensor_a = tensor_a + tensor_b\n",
        "tensor_a.add_(tensor_b)\n",
        "# e cada vez q você rodar essa parte do código, vai sempre adicionando os valores"
      ],
      "metadata": {
        "colab": {
          "base_uri": "https://localhost:8080/"
        },
        "id": "6sk0jkJubTvy",
        "outputId": "1717556f-00a0-4b91-b36a-7f12ce363949"
      },
      "execution_count": 31,
      "outputs": [
        {
          "output_type": "execute_result",
          "data": {
            "text/plain": [
              "tensor([36, 44, 52, 60])"
            ]
          },
          "metadata": {},
          "execution_count": 31
        }
      ]
    }
  ]
}