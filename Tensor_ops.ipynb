{
  "nbformat": 4,
  "nbformat_minor": 0,
  "metadata": {
    "colab": {
      "provenance": [],
      "authorship_tag": "ABX9TyPlHHh0yuc9BbilvLbM4sw8",
      "include_colab_link": true
    },
    "kernelspec": {
      "name": "python3",
      "display_name": "Python 3"
    },
    "language_info": {
      "name": "python"
    }
  },
  "cells": [
    {
      "cell_type": "markdown",
      "metadata": {
        "id": "view-in-github",
        "colab_type": "text"
      },
      "source": [
        "<a href=\"https://colab.research.google.com/github/Lih01/Deep-Learning-w-PyTorch/blob/main/Tensor_ops.ipynb\" target=\"_parent\"><img src=\"https://colab.research.google.com/assets/colab-badge.svg\" alt=\"Open In Colab\"/></a>"
      ]
    },
    {
      "cell_type": "code",
      "execution_count": 1,
      "metadata": {
        "id": "0TGuk3SLOcqE"
      },
      "outputs": [],
      "source": [
        "import torch"
      ]
    },
    {
      "cell_type": "code",
      "source": [
        "my_torch = torch.arange(10)\n",
        "my_torch"
      ],
      "metadata": {
        "colab": {
          "base_uri": "https://localhost:8080/"
        },
        "id": "_eEDJzwcOw1E",
        "outputId": "c3871895-e552-4d99-9c98-21a481bbb17c"
      },
      "execution_count": 3,
      "outputs": [
        {
          "output_type": "execute_result",
          "data": {
            "text/plain": [
              "tensor([0, 1, 2, 3, 4, 5, 6, 7, 8, 9])"
            ]
          },
          "metadata": {},
          "execution_count": 3
        }
      ]
    },
    {
      "cell_type": "code",
      "source": [
        "# Reshape and view\n",
        "my_torch = my_torch.reshape(2,5)\n",
        "my_torch\n",
        "# Tem q fazer sentido quando for refomular a forma"
      ],
      "metadata": {
        "colab": {
          "base_uri": "https://localhost:8080/"
        },
        "id": "jMvnfaZWO7Sr",
        "outputId": "cb7e92f4-4d79-4a49-91d1-a4ba90cadcff"
      },
      "execution_count": 4,
      "outputs": [
        {
          "output_type": "execute_result",
          "data": {
            "text/plain": [
              "tensor([[0, 1, 2, 3, 4],\n",
              "        [5, 6, 7, 8, 9]])"
            ]
          },
          "metadata": {},
          "execution_count": 4
        }
      ]
    },
    {
      "cell_type": "code",
      "source": [
        "# Reshape is we don't know the number of items using -1\n",
        "my_torch2 = torch.arange(10)\n",
        "my_torch2"
      ],
      "metadata": {
        "colab": {
          "base_uri": "https://localhost:8080/"
        },
        "id": "xpUKkzf6PTD-",
        "outputId": "203d6431-3561-4346-d746-c1863fa81063"
      },
      "execution_count": 5,
      "outputs": [
        {
          "output_type": "execute_result",
          "data": {
            "text/plain": [
              "tensor([0, 1, 2, 3, 4, 5, 6, 7, 8, 9])"
            ]
          },
          "metadata": {},
          "execution_count": 5
        }
      ]
    },
    {
      "cell_type": "code",
      "source": [
        "my_torch2 = my_torch2.reshape(2,-1)\n",
        "# Ou pode ser (-1,5) pois irá dar o mesmo valor\n",
        "my_torch2"
      ],
      "metadata": {
        "colab": {
          "base_uri": "https://localhost:8080/"
        },
        "id": "XA3ML1DePdCI",
        "outputId": "f64bf1d8-d1b7-41c0-ca1f-404b6a15bf93"
      },
      "execution_count": 7,
      "outputs": [
        {
          "output_type": "execute_result",
          "data": {
            "text/plain": [
              "tensor([[0, 1, 2, 3, 4],\n",
              "        [5, 6, 7, 8, 9]])"
            ]
          },
          "metadata": {},
          "execution_count": 7
        }
      ]
    },
    {
      "cell_type": "markdown",
      "source": [
        "# **Diferença entre Reshape e View:**\n",
        "In PyTorch, both reshape() and view() are used to change the shape of a tensor, but their key difference lies in how they handle memory and whether they return a view or a copy of the original data.\n",
        "\n",
        "view():\n",
        "- ***Returns a view:*** attempts to return a new tensor that shares the same underlying data as the original tensor. This means no new memory is allocated for the data.\n",
        "- ***Requires contiguous memory:*** to succeed, the original tensor's memory must be \"contiguous.\" This means the elements are stored sequentially in memory. If the tensor is not contiguous (e.g., after slicing operations), view() will raise a RuntimeError.\n",
        "- ***Changes reflect in both:*** Because view() creates a view, any in-place modifications to the returned tensor will also affect the original tensor, and vice versa.\n",
        "\n",
        "reshape():\n",
        "- ***Returns a view or a copy:*** is more flexible. It will return a view of the original tensor if the new shape is compatible with the existing memory layout (i.e., if a view can be created). However, if the tensor is not contiguous or the new shape requires a different memory layout, reshape() will automatically create a copy of the data to ensure the new tensor is contiguous.\n",
        "- ***Does not require contiguous memory:*** handles non-contiguous tensors by performing a copy when necessary, making it more robust in various scenarios.\n",
        "- ***Changes might not reflect:*** If creates a copy, then changes made to the new tensor will not affect the original tensor, as they are distinct entities in memory.\n",
        "\n",
        "In summary:\n",
        "- ***Use view() when:***\n",
        "You are confident the tensor is contiguous and you want a memory-efficient operation where changes to one tensor reflect in the other.\n",
        "- ***Use reshape() when:***\n",
        "You need to reshape a tensor and are unsure about its memory contiguity, or you don't require shared memory and are comfortable with a potential data copy. reshape() is generally safer and more convenient as it handles contiguity automatically."
      ],
      "metadata": {
        "id": "8cF4z5lxQKDB"
      }
    },
    {
      "cell_type": "code",
      "source": [
        "# W/ reshape and view, they will update\n",
        "my_torch3 = torch.arange(10)\n",
        "my_torch3"
      ],
      "metadata": {
        "colab": {
          "base_uri": "https://localhost:8080/"
        },
        "id": "XOGnKjJSP4PR",
        "outputId": "5c8fd56c-eae8-487e-e5b2-f76f1787dbd5"
      },
      "execution_count": 9,
      "outputs": [
        {
          "output_type": "execute_result",
          "data": {
            "text/plain": [
              "tensor([0, 1, 2, 3, 4, 5, 6, 7, 8, 9])"
            ]
          },
          "metadata": {},
          "execution_count": 9
        }
      ]
    },
    {
      "cell_type": "code",
      "source": [
        "my_torch4 = my_torch3.reshape(2,5)\n",
        "my_torch4"
      ],
      "metadata": {
        "colab": {
          "base_uri": "https://localhost:8080/"
        },
        "id": "XAoIuhnCSOIa",
        "outputId": "c2a649d5-0fc4-4cf5-eed5-e6aa43ec25e1"
      },
      "execution_count": 10,
      "outputs": [
        {
          "output_type": "execute_result",
          "data": {
            "text/plain": [
              "tensor([[0, 1, 2, 3, 4],\n",
              "        [5, 6, 7, 8, 9]])"
            ]
          },
          "metadata": {},
          "execution_count": 10
        }
      ]
    },
    {
      "cell_type": "code",
      "source": [
        "my_torch3[1] = 4141\n",
        "my_torch3"
      ],
      "metadata": {
        "colab": {
          "base_uri": "https://localhost:8080/"
        },
        "id": "qN7eQXaxSYB5",
        "outputId": "7281cc97-9a8e-477a-99a2-b86d4798e042"
      },
      "execution_count": 11,
      "outputs": [
        {
          "output_type": "execute_result",
          "data": {
            "text/plain": [
              "tensor([   0, 4141,    2,    3,    4,    5,    6,    7,    8,    9])"
            ]
          },
          "metadata": {},
          "execution_count": 11
        }
      ]
    },
    {
      "cell_type": "code",
      "source": [
        "my_torch4"
      ],
      "metadata": {
        "colab": {
          "base_uri": "https://localhost:8080/"
        },
        "id": "lVXiKo6vSjSw",
        "outputId": "e2cc97a8-f9b7-4658-ab3d-e31b4fd24229"
      },
      "execution_count": 12,
      "outputs": [
        {
          "output_type": "execute_result",
          "data": {
            "text/plain": [
              "tensor([[   0, 4141,    2,    3,    4],\n",
              "        [   5,    6,    7,    8,    9]])"
            ]
          },
          "metadata": {},
          "execution_count": 12
        }
      ]
    },
    {
      "cell_type": "markdown",
      "source": [
        "# Slices"
      ],
      "metadata": {
        "id": "WahaMoqDTQoX"
      }
    },
    {
      "cell_type": "code",
      "source": [
        "my_torch5 = torch.arange(10)\n",
        "my_torch5\n"
      ],
      "metadata": {
        "colab": {
          "base_uri": "https://localhost:8080/"
        },
        "id": "CDtOfhgmSpDv",
        "outputId": "49b2bac4-9a2a-4e01-9f9a-2e60f96d943a"
      },
      "execution_count": 13,
      "outputs": [
        {
          "output_type": "execute_result",
          "data": {
            "text/plain": [
              "tensor([0, 1, 2, 3, 4, 5, 6, 7, 8, 9])"
            ]
          },
          "metadata": {},
          "execution_count": 13
        }
      ]
    },
    {
      "cell_type": "code",
      "source": [
        "# Pegar um item específico\n",
        "my_torch5[7] #Não é realmente o número 7"
      ],
      "metadata": {
        "colab": {
          "base_uri": "https://localhost:8080/"
        },
        "id": "SvWXxD4UTWtB",
        "outputId": "22dae96e-90cf-40c1-9f20-e3472240fbf4"
      },
      "execution_count": 15,
      "outputs": [
        {
          "output_type": "execute_result",
          "data": {
            "text/plain": [
              "tensor(7)"
            ]
          },
          "metadata": {},
          "execution_count": 15
        }
      ]
    },
    {
      "cell_type": "code",
      "source": [
        "# Pegar um pedaço (slice)\n",
        "my_torch6 = my_torch5.reshape(5,2)\n",
        "my_torch6"
      ],
      "metadata": {
        "colab": {
          "base_uri": "https://localhost:8080/"
        },
        "id": "__z4eNg8TvnW",
        "outputId": "4b43e413-6290-44c1-f653-9afddaf0ef45"
      },
      "execution_count": 16,
      "outputs": [
        {
          "output_type": "execute_result",
          "data": {
            "text/plain": [
              "tensor([[0, 1],\n",
              "        [2, 3],\n",
              "        [4, 5],\n",
              "        [6, 7],\n",
              "        [8, 9]])"
            ]
          },
          "metadata": {},
          "execution_count": 16
        }
      ]
    },
    {
      "cell_type": "code",
      "source": [
        "my_torch6[:,1]"
      ],
      "metadata": {
        "colab": {
          "base_uri": "https://localhost:8080/"
        },
        "id": "toZePd55T_qe",
        "outputId": "08e28722-cc8d-468a-a4f4-b2e32b8bf799"
      },
      "execution_count": 22,
      "outputs": [
        {
          "output_type": "execute_result",
          "data": {
            "text/plain": [
              "tensor([1, 3, 5, 7, 9])"
            ]
          },
          "metadata": {},
          "execution_count": 22
        }
      ]
    },
    {
      "cell_type": "code",
      "source": [
        "# Return colum\n",
        "my_torch6[:,1:]"
      ],
      "metadata": {
        "colab": {
          "base_uri": "https://localhost:8080/"
        },
        "id": "SiZEzBrpUJ96",
        "outputId": "13102490-61fb-45c6-f53e-522a38ba1395"
      },
      "execution_count": 23,
      "outputs": [
        {
          "output_type": "execute_result",
          "data": {
            "text/plain": [
              "tensor([[1],\n",
              "        [3],\n",
              "        [5],\n",
              "        [7],\n",
              "        [9]])"
            ]
          },
          "metadata": {},
          "execution_count": 23
        }
      ]
    }
  ]
}